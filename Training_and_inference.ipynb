{
  "cells": [
    {
      "cell_type": "markdown",
      "metadata": {
        "id": "view-in-github",
        "colab_type": "text"
      },
      "source": [
        "<a href=\"https://colab.research.google.com/github/rdiazrincon/SLEAP_workshop/blob/master/Training_and_inference.ipynb\" target=\"_parent\"><img src=\"https://colab.research.google.com/assets/colab-badge.svg\" alt=\"Open In Colab\"/></a>"
      ]
    },
    {
      "cell_type": "markdown",
      "metadata": {
        "id": "K5xp-A8Oc80Q"
      },
      "source": [
        "This notebook shows you how to run training and inference on your own SLEAP dataset using the command-line interface.\n",
        "\n",
        "You'll use [Google Drive](https://www.google.com/drive) for moving your data to and from Colab. We'll guide you through the process."
      ]
    },
    {
      "cell_type": "markdown",
      "metadata": {
        "id": "yX9noEb8m8re"
      },
      "source": [
        "# Installation\n",
        "\n",
        "Before we install SLEAP we need to set Colab to use TensorFlow 2."
      ]
    },
    {
      "cell_type": "code",
      "execution_count": 1,
      "metadata": {
        "id": "1hJvyI24KXlu",
        "outputId": "2a8e1106-da5f-4d2c-af0d-d35b9ad35aac",
        "colab": {
          "base_uri": "https://localhost:8080/"
        }
      },
      "outputs": [
        {
          "output_type": "stream",
          "name": "stdout",
          "text": [
            "Colab only includes TensorFlow 2.x; %tensorflow_version has no effect.\n"
          ]
        }
      ],
      "source": [
        "%tensorflow_version 2.x"
      ]
    },
    {
      "cell_type": "markdown",
      "metadata": {
        "id": "C5WL10cao-sc"
      },
      "source": [
        "Let's confirm that we have a GPU available. This next line should return something like \"/device:GPU:0\". If you instead see an empty string as the result, go to \"Notebook settings\" in the \"Edit\" menu and select \"GPU\" as the hardware accelerator."
      ]
    },
    {
      "cell_type": "code",
      "execution_count": 2,
      "metadata": {
        "id": "9I12Lk6TKZnn",
        "outputId": "70f94512-002c-4c53-8c4b-16d1d9ad55b6",
        "colab": {
          "base_uri": "https://localhost:8080/",
          "height": 35
        }
      },
      "outputs": [
        {
          "output_type": "execute_result",
          "data": {
            "text/plain": [
              "'/device:GPU:0'"
            ],
            "application/vnd.google.colaboratory.intrinsic+json": {
              "type": "string"
            }
          },
          "metadata": {},
          "execution_count": 2
        }
      ],
      "source": [
        "import tensorflow as tf\n",
        "tf.test.gpu_device_name()"
      ]
    },
    {
      "cell_type": "markdown",
      "metadata": {
        "id": "pMjYpcVFqWgV"
      },
      "source": [
        "Now let's use `pip` to install SLEAP from PyPI.\n",
        "\n",
        "Note: This installation method should also work on other Linux machines, such as an HPC cluster, or on any system where you aren't planning to use a GPU. To use a GPU on a Windows machine you'll need to install using `conda`."
      ]
    },
    {
      "cell_type": "code",
      "execution_count": 3,
      "metadata": {
        "id": "DUfnkxMtLcK3",
        "outputId": "30fd1084-bee8-43e5-ec2e-923c31de2895",
        "colab": {
          "base_uri": "https://localhost:8080/"
        }
      },
      "outputs": [
        {
          "output_type": "stream",
          "name": "stdout",
          "text": [
            "Looking in indexes: https://pypi.org/simple, https://us-python.pkg.dev/colab-wheels/public/simple/\n",
            "Requirement already satisfied: sleap==1.2.6 in /usr/local/lib/python3.7/dist-packages (1.2.6)\n",
            "Requirement already satisfied: ndx-pose in /usr/local/lib/python3.7/dist-packages (from sleap==1.2.6) (0.1.1)\n",
            "Requirement already satisfied: tensorflow<2.9.0,>=2.6.3 in /usr/local/lib/python3.7/dist-packages (from sleap==1.2.6) (2.8.2+zzzcolab20220719082949)\n",
            "Requirement already satisfied: pynwb in /usr/local/lib/python3.7/dist-packages (from sleap==1.2.6) (2.1.0)\n",
            "Requirement already satisfied: pyzmq in /usr/local/lib/python3.7/dist-packages (from sleap==1.2.6) (23.2.0)\n",
            "Requirement already satisfied: qimage2ndarray<=1.8.3,>=1.8.2 in /usr/local/lib/python3.7/dist-packages (from sleap==1.2.6) (1.8.3)\n",
            "Requirement already satisfied: networkx in /usr/local/lib/python3.7/dist-packages (from sleap==1.2.6) (2.6.3)\n",
            "Requirement already satisfied: rich==10.16.1 in /usr/local/lib/python3.7/dist-packages (from sleap==1.2.6) (10.16.1)\n",
            "Requirement already satisfied: h5py<=3.6.0,>=3.1.0 in /usr/local/lib/python3.7/dist-packages (from sleap==1.2.6) (3.1.0)\n",
            "Requirement already satisfied: scikit-learn==1.0.* in /usr/local/lib/python3.7/dist-packages (from sleap==1.2.6) (1.0.2)\n",
            "Requirement already satisfied: pykalman==0.9.5 in /usr/local/lib/python3.7/dist-packages (from sleap==1.2.6) (0.9.5)\n",
            "Requirement already satisfied: segmentation-models==1.0.1 in /usr/local/lib/python3.7/dist-packages (from sleap==1.2.6) (1.0.1)\n",
            "Requirement already satisfied: imageio<=2.15.0 in /usr/local/lib/python3.7/dist-packages (from sleap==1.2.6) (2.9.0)\n",
            "Requirement already satisfied: python-rapidjson in /usr/local/lib/python3.7/dist-packages (from sleap==1.2.6) (1.8)\n",
            "Requirement already satisfied: scikit-image in /usr/local/lib/python3.7/dist-packages (from sleap==1.2.6) (0.18.3)\n",
            "Requirement already satisfied: attrs==21.2.0 in /usr/local/lib/python3.7/dist-packages (from sleap==1.2.6) (21.2.0)\n",
            "Requirement already satisfied: imgstore==0.2.9 in /usr/local/lib/python3.7/dist-packages (from sleap==1.2.6) (0.2.9)\n",
            "Requirement already satisfied: seaborn in /usr/local/lib/python3.7/dist-packages (from sleap==1.2.6) (0.11.2)\n",
            "Requirement already satisfied: pandas in /usr/local/lib/python3.7/dist-packages (from sleap==1.2.6) (1.3.5)\n",
            "Requirement already satisfied: jsmin in /usr/local/lib/python3.7/dist-packages (from sleap==1.2.6) (3.0.1)\n",
            "Requirement already satisfied: numpy<=1.21.5,>=1.19.5 in /usr/local/lib/python3.7/dist-packages (from sleap==1.2.6) (1.21.5)\n",
            "Requirement already satisfied: psutil in /usr/local/lib/python3.7/dist-packages (from sleap==1.2.6) (5.4.8)\n",
            "Requirement already satisfied: cattrs==1.1.1 in /usr/local/lib/python3.7/dist-packages (from sleap==1.2.6) (1.1.1)\n",
            "Requirement already satisfied: certifi<=2021.10.8,>=2017.4.17 in /usr/local/lib/python3.7/dist-packages (from sleap==1.2.6) (2021.10.8)\n",
            "Requirement already satisfied: imgaug==0.4.0 in /usr/local/lib/python3.7/dist-packages (from sleap==1.2.6) (0.4.0)\n",
            "Requirement already satisfied: PySide2<=5.14.1,>=5.13.2 in /usr/local/lib/python3.7/dist-packages (from sleap==1.2.6) (5.14.1)\n",
            "Requirement already satisfied: scikit-video in /usr/local/lib/python3.7/dist-packages (from sleap==1.2.6) (1.1.11)\n",
            "Requirement already satisfied: opencv-python-headless<=4.5.5.62,>=4.2.0.34 in /usr/local/lib/python3.7/dist-packages (from sleap==1.2.6) (4.5.5.62)\n",
            "Requirement already satisfied: jsonpickle==1.2 in /usr/local/lib/python3.7/dist-packages (from sleap==1.2.6) (1.2)\n",
            "Requirement already satisfied: scipy<=1.7.3,>=1.4.1 in /usr/local/lib/python3.7/dist-packages (from sleap==1.2.6) (1.7.3)\n",
            "Requirement already satisfied: pyyaml in /usr/local/lib/python3.7/dist-packages (from sleap==1.2.6) (3.13)\n",
            "Requirement already satisfied: Pillow in /usr/local/lib/python3.7/dist-packages (from imgaug==0.4.0->sleap==1.2.6) (7.1.2)\n",
            "Requirement already satisfied: Shapely in /usr/local/lib/python3.7/dist-packages (from imgaug==0.4.0->sleap==1.2.6) (1.8.2)\n",
            "Requirement already satisfied: opencv-python in /usr/local/lib/python3.7/dist-packages (from imgaug==0.4.0->sleap==1.2.6) (4.6.0.66)\n",
            "Requirement already satisfied: six in /usr/local/lib/python3.7/dist-packages (from imgaug==0.4.0->sleap==1.2.6) (1.15.0)\n",
            "Requirement already satisfied: matplotlib in /usr/local/lib/python3.7/dist-packages (from imgaug==0.4.0->sleap==1.2.6) (3.2.2)\n",
            "Requirement already satisfied: pytz in /usr/local/lib/python3.7/dist-packages (from imgstore==0.2.9->sleap==1.2.6) (2022.1)\n",
            "Requirement already satisfied: python-dateutil in /usr/local/lib/python3.7/dist-packages (from imgstore==0.2.9->sleap==1.2.6) (2.8.2)\n",
            "Requirement already satisfied: tzlocal in /usr/local/lib/python3.7/dist-packages (from imgstore==0.2.9->sleap==1.2.6) (1.5.1)\n",
            "Requirement already satisfied: typing-extensions<5.0,>=3.7.4 in /usr/local/lib/python3.7/dist-packages (from rich==10.16.1->sleap==1.2.6) (4.1.1)\n",
            "Requirement already satisfied: pygments<3.0.0,>=2.6.0 in /usr/local/lib/python3.7/dist-packages (from rich==10.16.1->sleap==1.2.6) (2.6.1)\n",
            "Requirement already satisfied: colorama<0.5.0,>=0.4.0 in /usr/local/lib/python3.7/dist-packages (from rich==10.16.1->sleap==1.2.6) (0.4.5)\n",
            "Requirement already satisfied: commonmark<0.10.0,>=0.9.0 in /usr/local/lib/python3.7/dist-packages (from rich==10.16.1->sleap==1.2.6) (0.9.1)\n",
            "Requirement already satisfied: threadpoolctl>=2.0.0 in /usr/local/lib/python3.7/dist-packages (from scikit-learn==1.0.*->sleap==1.2.6) (3.1.0)\n",
            "Requirement already satisfied: joblib>=0.11 in /usr/local/lib/python3.7/dist-packages (from scikit-learn==1.0.*->sleap==1.2.6) (1.1.0)\n",
            "Requirement already satisfied: keras-applications<=1.0.8,>=1.0.7 in /usr/local/lib/python3.7/dist-packages (from segmentation-models==1.0.1->sleap==1.2.6) (1.0.8)\n",
            "Requirement already satisfied: efficientnet==1.0.0 in /usr/local/lib/python3.7/dist-packages (from segmentation-models==1.0.1->sleap==1.2.6) (1.0.0)\n",
            "Requirement already satisfied: image-classifiers==1.0.0 in /usr/local/lib/python3.7/dist-packages (from segmentation-models==1.0.1->sleap==1.2.6) (1.0.0)\n",
            "Requirement already satisfied: cached-property in /usr/local/lib/python3.7/dist-packages (from h5py<=3.6.0,>=3.1.0->sleap==1.2.6) (1.5.2)\n",
            "Requirement already satisfied: shiboken2==5.14.1 in /usr/local/lib/python3.7/dist-packages (from PySide2<=5.14.1,>=5.13.2->sleap==1.2.6) (5.14.1)\n",
            "Requirement already satisfied: tifffile>=2019.7.26 in /usr/local/lib/python3.7/dist-packages (from scikit-image->sleap==1.2.6) (2021.11.2)\n",
            "Requirement already satisfied: PyWavelets>=1.1.1 in /usr/local/lib/python3.7/dist-packages (from scikit-image->sleap==1.2.6) (1.3.0)\n",
            "Requirement already satisfied: cycler>=0.10 in /usr/local/lib/python3.7/dist-packages (from matplotlib->imgaug==0.4.0->sleap==1.2.6) (0.11.0)\n",
            "Requirement already satisfied: kiwisolver>=1.0.1 in /usr/local/lib/python3.7/dist-packages (from matplotlib->imgaug==0.4.0->sleap==1.2.6) (1.4.4)\n",
            "Requirement already satisfied: pyparsing!=2.0.4,!=2.1.2,!=2.1.6,>=2.0.1 in /usr/local/lib/python3.7/dist-packages (from matplotlib->imgaug==0.4.0->sleap==1.2.6) (3.0.9)\n",
            "Requirement already satisfied: libclang>=9.0.1 in /usr/local/lib/python3.7/dist-packages (from tensorflow<2.9.0,>=2.6.3->sleap==1.2.6) (14.0.1)\n",
            "Requirement already satisfied: gast>=0.2.1 in /usr/local/lib/python3.7/dist-packages (from tensorflow<2.9.0,>=2.6.3->sleap==1.2.6) (0.5.3)\n",
            "Requirement already satisfied: tensorflow-io-gcs-filesystem>=0.23.1 in /usr/local/lib/python3.7/dist-packages (from tensorflow<2.9.0,>=2.6.3->sleap==1.2.6) (0.26.0)\n",
            "Requirement already satisfied: grpcio<2.0,>=1.24.3 in /usr/local/lib/python3.7/dist-packages (from tensorflow<2.9.0,>=2.6.3->sleap==1.2.6) (1.47.0)\n",
            "Requirement already satisfied: keras-preprocessing>=1.1.1 in /usr/local/lib/python3.7/dist-packages (from tensorflow<2.9.0,>=2.6.3->sleap==1.2.6) (1.1.2)\n",
            "Requirement already satisfied: setuptools in /usr/local/lib/python3.7/dist-packages (from tensorflow<2.9.0,>=2.6.3->sleap==1.2.6) (57.4.0)\n",
            "Requirement already satisfied: keras<2.9,>=2.8.0rc0 in /usr/local/lib/python3.7/dist-packages (from tensorflow<2.9.0,>=2.6.3->sleap==1.2.6) (2.8.0)\n",
            "Requirement already satisfied: astunparse>=1.6.0 in /usr/local/lib/python3.7/dist-packages (from tensorflow<2.9.0,>=2.6.3->sleap==1.2.6) (1.6.3)\n",
            "Requirement already satisfied: flatbuffers>=1.12 in /usr/local/lib/python3.7/dist-packages (from tensorflow<2.9.0,>=2.6.3->sleap==1.2.6) (2.0)\n",
            "Requirement already satisfied: protobuf<3.20,>=3.9.2 in /usr/local/lib/python3.7/dist-packages (from tensorflow<2.9.0,>=2.6.3->sleap==1.2.6) (3.17.3)\n",
            "Requirement already satisfied: termcolor>=1.1.0 in /usr/local/lib/python3.7/dist-packages (from tensorflow<2.9.0,>=2.6.3->sleap==1.2.6) (1.1.0)\n",
            "Requirement already satisfied: opt-einsum>=2.3.2 in /usr/local/lib/python3.7/dist-packages (from tensorflow<2.9.0,>=2.6.3->sleap==1.2.6) (3.3.0)\n",
            "Requirement already satisfied: tensorflow-estimator<2.9,>=2.8 in /usr/local/lib/python3.7/dist-packages (from tensorflow<2.9.0,>=2.6.3->sleap==1.2.6) (2.8.0)\n",
            "Requirement already satisfied: google-pasta>=0.1.1 in /usr/local/lib/python3.7/dist-packages (from tensorflow<2.9.0,>=2.6.3->sleap==1.2.6) (0.2.0)\n",
            "Requirement already satisfied: wrapt>=1.11.0 in /usr/local/lib/python3.7/dist-packages (from tensorflow<2.9.0,>=2.6.3->sleap==1.2.6) (1.14.1)\n",
            "Requirement already satisfied: tensorboard<2.9,>=2.8 in /usr/local/lib/python3.7/dist-packages (from tensorflow<2.9.0,>=2.6.3->sleap==1.2.6) (2.8.0)\n",
            "Requirement already satisfied: absl-py>=0.4.0 in /usr/local/lib/python3.7/dist-packages (from tensorflow<2.9.0,>=2.6.3->sleap==1.2.6) (1.2.0)\n",
            "Requirement already satisfied: wheel<1.0,>=0.23.0 in /usr/local/lib/python3.7/dist-packages (from astunparse>=1.6.0->tensorflow<2.9.0,>=2.6.3->sleap==1.2.6) (0.37.1)\n",
            "Requirement already satisfied: google-auth<3,>=1.6.3 in /usr/local/lib/python3.7/dist-packages (from tensorboard<2.9,>=2.8->tensorflow<2.9.0,>=2.6.3->sleap==1.2.6) (1.35.0)\n",
            "Requirement already satisfied: google-auth-oauthlib<0.5,>=0.4.1 in /usr/local/lib/python3.7/dist-packages (from tensorboard<2.9,>=2.8->tensorflow<2.9.0,>=2.6.3->sleap==1.2.6) (0.4.6)\n",
            "Requirement already satisfied: requests<3,>=2.21.0 in /usr/local/lib/python3.7/dist-packages (from tensorboard<2.9,>=2.8->tensorflow<2.9.0,>=2.6.3->sleap==1.2.6) (2.23.0)\n",
            "Requirement already satisfied: markdown>=2.6.8 in /usr/local/lib/python3.7/dist-packages (from tensorboard<2.9,>=2.8->tensorflow<2.9.0,>=2.6.3->sleap==1.2.6) (3.4.1)\n",
            "Requirement already satisfied: werkzeug>=0.11.15 in /usr/local/lib/python3.7/dist-packages (from tensorboard<2.9,>=2.8->tensorflow<2.9.0,>=2.6.3->sleap==1.2.6) (1.0.1)\n",
            "Requirement already satisfied: tensorboard-plugin-wit>=1.6.0 in /usr/local/lib/python3.7/dist-packages (from tensorboard<2.9,>=2.8->tensorflow<2.9.0,>=2.6.3->sleap==1.2.6) (1.8.1)\n",
            "Requirement already satisfied: tensorboard-data-server<0.7.0,>=0.6.0 in /usr/local/lib/python3.7/dist-packages (from tensorboard<2.9,>=2.8->tensorflow<2.9.0,>=2.6.3->sleap==1.2.6) (0.6.1)\n",
            "Requirement already satisfied: cachetools<5.0,>=2.0.0 in /usr/local/lib/python3.7/dist-packages (from google-auth<3,>=1.6.3->tensorboard<2.9,>=2.8->tensorflow<2.9.0,>=2.6.3->sleap==1.2.6) (4.2.4)\n",
            "Requirement already satisfied: pyasn1-modules>=0.2.1 in /usr/local/lib/python3.7/dist-packages (from google-auth<3,>=1.6.3->tensorboard<2.9,>=2.8->tensorflow<2.9.0,>=2.6.3->sleap==1.2.6) (0.2.8)\n",
            "Requirement already satisfied: rsa<5,>=3.1.4 in /usr/local/lib/python3.7/dist-packages (from google-auth<3,>=1.6.3->tensorboard<2.9,>=2.8->tensorflow<2.9.0,>=2.6.3->sleap==1.2.6) (4.9)\n",
            "Requirement already satisfied: requests-oauthlib>=0.7.0 in /usr/local/lib/python3.7/dist-packages (from google-auth-oauthlib<0.5,>=0.4.1->tensorboard<2.9,>=2.8->tensorflow<2.9.0,>=2.6.3->sleap==1.2.6) (1.3.1)\n",
            "Requirement already satisfied: importlib-metadata>=4.4 in /usr/local/lib/python3.7/dist-packages (from markdown>=2.6.8->tensorboard<2.9,>=2.8->tensorflow<2.9.0,>=2.6.3->sleap==1.2.6) (4.12.0)\n",
            "Requirement already satisfied: zipp>=0.5 in /usr/local/lib/python3.7/dist-packages (from importlib-metadata>=4.4->markdown>=2.6.8->tensorboard<2.9,>=2.8->tensorflow<2.9.0,>=2.6.3->sleap==1.2.6) (3.8.1)\n",
            "Requirement already satisfied: pyasn1<0.5.0,>=0.4.6 in /usr/local/lib/python3.7/dist-packages (from pyasn1-modules>=0.2.1->google-auth<3,>=1.6.3->tensorboard<2.9,>=2.8->tensorflow<2.9.0,>=2.6.3->sleap==1.2.6) (0.4.8)\n",
            "Requirement already satisfied: chardet<4,>=3.0.2 in /usr/local/lib/python3.7/dist-packages (from requests<3,>=2.21.0->tensorboard<2.9,>=2.8->tensorflow<2.9.0,>=2.6.3->sleap==1.2.6) (3.0.4)\n",
            "Requirement already satisfied: idna<3,>=2.5 in /usr/local/lib/python3.7/dist-packages (from requests<3,>=2.21.0->tensorboard<2.9,>=2.8->tensorflow<2.9.0,>=2.6.3->sleap==1.2.6) (2.10)\n",
            "Requirement already satisfied: urllib3!=1.25.0,!=1.25.1,<1.26,>=1.21.1 in /usr/local/lib/python3.7/dist-packages (from requests<3,>=2.21.0->tensorboard<2.9,>=2.8->tensorflow<2.9.0,>=2.6.3->sleap==1.2.6) (1.24.3)\n",
            "Requirement already satisfied: oauthlib>=3.0.0 in /usr/local/lib/python3.7/dist-packages (from requests-oauthlib>=0.7.0->google-auth-oauthlib<0.5,>=0.4.1->tensorboard<2.9,>=2.8->tensorflow<2.9.0,>=2.6.3->sleap==1.2.6) (3.2.0)\n",
            "Requirement already satisfied: hdmf<4,>=2.5.6 in /usr/local/lib/python3.7/dist-packages (from ndx-pose->sleap==1.2.6) (3.3.2)\n",
            "Requirement already satisfied: jsonschema<5,>=2.6.0 in /usr/local/lib/python3.7/dist-packages (from hdmf<4,>=2.5.6->ndx-pose->sleap==1.2.6) (4.3.3)\n",
            "Requirement already satisfied: ruamel.yaml<1,>=0.16 in /usr/local/lib/python3.7/dist-packages (from hdmf<4,>=2.5.6->ndx-pose->sleap==1.2.6) (0.17.21)\n",
            "Requirement already satisfied: importlib-resources>=1.4.0 in /usr/local/lib/python3.7/dist-packages (from jsonschema<5,>=2.6.0->hdmf<4,>=2.5.6->ndx-pose->sleap==1.2.6) (5.9.0)\n",
            "Requirement already satisfied: pyrsistent!=0.17.0,!=0.17.1,!=0.17.2,>=0.14.0 in /usr/local/lib/python3.7/dist-packages (from jsonschema<5,>=2.6.0->hdmf<4,>=2.5.6->ndx-pose->sleap==1.2.6) (0.18.1)\n",
            "Requirement already satisfied: ruamel.yaml.clib>=0.2.6 in /usr/local/lib/python3.7/dist-packages (from ruamel.yaml<1,>=0.16->hdmf<4,>=2.5.6->ndx-pose->sleap==1.2.6) (0.2.6)\n"
          ]
        }
      ],
      "source": [
        "!pip install sleap==1.2.6"
      ]
    },
    {
      "cell_type": "markdown",
      "metadata": {
        "id": "iq7jrgUksLtR"
      },
      "source": [
        "## Getting your training data into Colab\n",
        "\n",
        "You'll need to get your training data into Colab. So let's get the data from the workshop's [repo](https://github.com/rdiazrincon/SLEAP_workshop)"
      ]
    },
    {
      "cell_type": "markdown",
      "metadata": {
        "id": "KQhv_gsdJzaq"
      },
      "source": [
        "The training package contains both labeled data as well as the labeled images which will be used for training. One advantage to training packages is that it doesn't depend on paths to other files (i.e., videos) to be messed up when you copy your project to another volume.\n",
        "\n",
        "See [this guide](https://sleap.ai/guides/training-package.html) for exporting a training package from SLEAP.\n",
        "\n",
        "\n",
        "The following cell sets your current working directory to the directory with your training package. This will ensure that the output from training (i.e., the models) and from interence (i.e., predictions) will all be saved in this directory.\n",
        "\n",
        "**Important**: For this demo, I'll assume you have the file `data.pkg.slp`. If you placed your training pckage somewhere else, you'll need to adjust the path below."
      ]
    },
    {
      "cell_type": "code",
      "execution_count": 6,
      "metadata": {
        "id": "9umui-gI2rBz",
        "outputId": "810e0485-fcf7-4878-affa-3cf5b65d60ca",
        "colab": {
          "base_uri": "https://localhost:8080/"
        }
      },
      "outputs": [
        {
          "output_type": "stream",
          "name": "stdout",
          "text": [
            "--2022-08-02 20:44:13--  https://github.com/rdiazrincon/SLEAP_Data/blob/master/videos/video.AVI?raw=true\n",
            "Resolving github.com (github.com)... 140.82.114.4\n",
            "Connecting to github.com (github.com)|140.82.114.4|:443... connected.\n",
            "HTTP request sent, awaiting response... 302 Found\n",
            "Location: https://github.com/rdiazrincon/SLEAP_Data/raw/master/videos/video.AVI [following]\n",
            "--2022-08-02 20:44:13--  https://github.com/rdiazrincon/SLEAP_Data/raw/master/videos/video.AVI\n",
            "Reusing existing connection to github.com:443.\n",
            "HTTP request sent, awaiting response... 302 Found\n",
            "Location: https://media.githubusercontent.com/media/rdiazrincon/SLEAP_Data/master/videos/video.AVI [following]\n",
            "--2022-08-02 20:44:13--  https://media.githubusercontent.com/media/rdiazrincon/SLEAP_Data/master/videos/video.AVI\n",
            "Resolving media.githubusercontent.com (media.githubusercontent.com)... 185.199.108.133, 185.199.109.133, 185.199.110.133, ...\n",
            "Connecting to media.githubusercontent.com (media.githubusercontent.com)|185.199.108.133|:443... connected.\n",
            "HTTP request sent, awaiting response... 200 OK\n",
            "Length: 811157572 (774M) [video/msvideo]\n",
            "Saving to: ‘video.AVI’\n",
            "\n",
            "video.AVI           100%[===================>] 773.58M   256MB/s    in 3.0s    \n",
            "\n",
            "2022-08-02 20:44:16 (256 MB/s) - ‘video.AVI’ saved [811157572/811157572]\n",
            "\n",
            "--2022-08-02 20:44:16--  https://github.com/rdiazrincon/SLEAP_workshop/blob/master/examples/data.pkg.slp?raw=true\n",
            "Resolving github.com (github.com)... 140.82.114.4\n",
            "Connecting to github.com (github.com)|140.82.114.4|:443... connected.\n",
            "HTTP request sent, awaiting response... 302 Found\n",
            "Location: https://github.com/rdiazrincon/SLEAP_workshop/raw/master/examples/data.pkg.slp [following]\n",
            "--2022-08-02 20:44:16--  https://github.com/rdiazrincon/SLEAP_workshop/raw/master/examples/data.pkg.slp\n",
            "Reusing existing connection to github.com:443.\n",
            "HTTP request sent, awaiting response... 302 Found\n",
            "Location: https://raw.githubusercontent.com/rdiazrincon/SLEAP_workshop/master/examples/data.pkg.slp [following]\n",
            "--2022-08-02 20:44:16--  https://raw.githubusercontent.com/rdiazrincon/SLEAP_workshop/master/examples/data.pkg.slp\n",
            "Resolving raw.githubusercontent.com (raw.githubusercontent.com)... 185.199.108.133, 185.199.109.133, 185.199.110.133, ...\n",
            "Connecting to raw.githubusercontent.com (raw.githubusercontent.com)|185.199.108.133|:443... connected.\n",
            "HTTP request sent, awaiting response... 200 OK\n",
            "Length: 24417320 (23M) [application/octet-stream]\n",
            "Saving to: ‘data.pkg.slp’\n",
            "\n",
            "data.pkg.slp        100%[===================>]  23.29M  --.-KB/s    in 0.1s    \n",
            "\n",
            "2022-08-02 20:44:17 (167 MB/s) - ‘data.pkg.slp’ saved [24417320/24417320]\n",
            "\n",
            "--2022-08-02 20:44:17--  https://github.com/rdiazrincon/SLEAP_Data/blob/master/training_profiles/baseline_medium_rf.bottomup.json?raw=true\n",
            "Resolving github.com (github.com)... 140.82.112.3\n",
            "Connecting to github.com (github.com)|140.82.112.3|:443... connected.\n",
            "HTTP request sent, awaiting response... 302 Found\n",
            "Location: https://github.com/rdiazrincon/SLEAP_Data/raw/master/training_profiles/baseline_medium_rf.bottomup.json [following]\n",
            "--2022-08-02 20:44:17--  https://github.com/rdiazrincon/SLEAP_Data/raw/master/training_profiles/baseline_medium_rf.bottomup.json\n",
            "Reusing existing connection to github.com:443.\n",
            "HTTP request sent, awaiting response... 302 Found\n",
            "Location: https://raw.githubusercontent.com/rdiazrincon/SLEAP_Data/master/training_profiles/baseline_medium_rf.bottomup.json [following]\n",
            "--2022-08-02 20:44:17--  https://raw.githubusercontent.com/rdiazrincon/SLEAP_Data/master/training_profiles/baseline_medium_rf.bottomup.json\n",
            "Resolving raw.githubusercontent.com (raw.githubusercontent.com)... 185.199.108.133, 185.199.109.133, 185.199.110.133, ...\n",
            "Connecting to raw.githubusercontent.com (raw.githubusercontent.com)|185.199.108.133|:443... connected.\n",
            "HTTP request sent, awaiting response... 200 OK\n",
            "Length: 4639 (4.5K) [text/plain]\n",
            "Saving to: ‘baseline_medium_rf.bottomup.json’\n",
            "\n",
            "baseline_medium_rf. 100%[===================>]   4.53K  --.-KB/s    in 0s      \n",
            "\n",
            "2022-08-02 20:44:17 (50.6 MB/s) - ‘baseline_medium_rf.bottomup.json’ saved [4639/4639]\n",
            "\n",
            "--2022-08-02 20:44:17--  https://github.com/rdiazrincon/SLEAP_Data/blob/master/training_profiles/baseline_medium_rf.topdown.json?raw=true\n",
            "Resolving github.com (github.com)... 140.82.112.4\n",
            "Connecting to github.com (github.com)|140.82.112.4|:443... connected.\n",
            "HTTP request sent, awaiting response... 302 Found\n",
            "Location: https://github.com/rdiazrincon/SLEAP_Data/raw/master/training_profiles/baseline_medium_rf.topdown.json [following]\n",
            "--2022-08-02 20:44:17--  https://github.com/rdiazrincon/SLEAP_Data/raw/master/training_profiles/baseline_medium_rf.topdown.json\n",
            "Reusing existing connection to github.com:443.\n",
            "HTTP request sent, awaiting response... 302 Found\n",
            "Location: https://raw.githubusercontent.com/rdiazrincon/SLEAP_Data/master/training_profiles/baseline_medium_rf.topdown.json [following]\n",
            "--2022-08-02 20:44:17--  https://raw.githubusercontent.com/rdiazrincon/SLEAP_Data/master/training_profiles/baseline_medium_rf.topdown.json\n",
            "Resolving raw.githubusercontent.com (raw.githubusercontent.com)... 185.199.108.133, 185.199.109.133, 185.199.110.133, ...\n",
            "Connecting to raw.githubusercontent.com (raw.githubusercontent.com)|185.199.108.133|:443... connected.\n",
            "HTTP request sent, awaiting response... 200 OK\n",
            "Length: 4522 (4.4K) [text/plain]\n",
            "Saving to: ‘baseline_medium_rf.topdown.json’\n",
            "\n",
            "baseline_medium_rf. 100%[===================>]   4.42K  --.-KB/s    in 0s      \n",
            "\n",
            "2022-08-02 20:44:18 (48.3 MB/s) - ‘baseline_medium_rf.topdown.json’ saved [4522/4522]\n",
            "\n",
            "--2022-08-02 20:44:18--  https://github.com/rdiazrincon/SLEAP_Data/blob/master/training_profiles/baseline.centroid.json?raw=true\n",
            "Resolving github.com (github.com)... 140.82.112.3\n",
            "Connecting to github.com (github.com)|140.82.112.3|:443... connected.\n",
            "HTTP request sent, awaiting response... 302 Found\n",
            "Location: https://github.com/rdiazrincon/SLEAP_Data/raw/master/training_profiles/baseline.centroid.json [following]\n",
            "--2022-08-02 20:44:18--  https://github.com/rdiazrincon/SLEAP_Data/raw/master/training_profiles/baseline.centroid.json\n",
            "Reusing existing connection to github.com:443.\n",
            "HTTP request sent, awaiting response... 302 Found\n",
            "Location: https://raw.githubusercontent.com/rdiazrincon/SLEAP_Data/master/training_profiles/baseline.centroid.json [following]\n",
            "--2022-08-02 20:44:18--  https://raw.githubusercontent.com/rdiazrincon/SLEAP_Data/master/training_profiles/baseline.centroid.json\n",
            "Resolving raw.githubusercontent.com (raw.githubusercontent.com)... 185.199.108.133, 185.199.109.133, 185.199.110.133, ...\n",
            "Connecting to raw.githubusercontent.com (raw.githubusercontent.com)|185.199.108.133|:443... connected.\n",
            "HTTP request sent, awaiting response... 200 OK\n",
            "Length: 4477 (4.4K) [text/plain]\n",
            "Saving to: ‘baseline.centroid.json’\n",
            "\n",
            "baseline.centroid.j 100%[===================>]   4.37K  --.-KB/s    in 0s      \n",
            "\n",
            "2022-08-02 20:44:18 (36.9 MB/s) - ‘baseline.centroid.json’ saved [4477/4477]\n",
            "\n"
          ]
        }
      ],
      "source": [
        "!wget -O video.AVI https://github.com/rdiazrincon/SLEAP_Data/blob/master/videos/video.AVI?raw=true\n",
        "!wget -O data.pkg.slp https://github.com/rdiazrincon/SLEAP_workshop/blob/master/examples/data.pkg.slp?raw=true\n",
        "!wget -O baseline_medium_rf.bottomup.json https://github.com/rdiazrincon/SLEAP_Data/blob/master/training_profiles/baseline_medium_rf.bottomup.json?raw=true\n",
        "!wget -O baseline_medium_rf.topdown.json https://github.com/rdiazrincon/SLEAP_Data/blob/master/training_profiles/baseline_medium_rf.topdown.json?raw=true\n",
        "!wget -O baseline.centroid.json https://github.com/rdiazrincon/SLEAP_Data/blob/master/training_profiles/baseline.centroid.json?raw=true"
      ]
    },
    {
      "cell_type": "markdown",
      "metadata": {
        "id": "xZ-sr67av5uu"
      },
      "source": [
        "## Training\n",
        "\n",
        "Now you're ready to train a model! We'll use the command-line interface for training, and train a model for confidence maps using the default **training profile**. The training profile determines the model architecture, the learning rate for training, and other training hyperparameters.\n",
        "\n",
        "When you start running this cell, you'll see the training parameters listed and then you'll see the training and validation loss for each training epoch.\n",
        "\n",
        "If you're happy with the validation loss you see for an epoch during training, you're welcome to stop training by clicking the stop button next to the notebook cell running training. The version of the model with the lowest validation loss is saved during training, and that's what will be used for inference. If you don't stop training, it will run for 200 epochs, or until validation loss fails to improve for some number of epochs (controlled by the `early_stopping` parameter in the training profile).\n",
        "\n",
        "**Important**: If your training package isn't named `colab.pkg.slp`, you'll need to adjust the name below."
      ]
    },
    {
      "cell_type": "code",
      "execution_count": 7,
      "metadata": {
        "id": "QKf6qzMqNBUi",
        "outputId": "db322c0a-71b8-4715-8dca-1d289697ae85",
        "colab": {
          "base_uri": "https://localhost:8080/"
        }
      },
      "outputs": [
        {
          "output_type": "stream",
          "name": "stdout",
          "text": [
            "INFO:numexpr.utils:NumExpr defaulting to 2 threads.\n",
            "INFO:sleap.nn.training:Versions:\n",
            "SLEAP: 1.2.6\n",
            "TensorFlow: 2.8.2\n",
            "Numpy: 1.21.5\n",
            "Python: 3.7.13\n",
            "OS: Linux-5.4.188+-x86_64-with-Ubuntu-18.04-bionic\n",
            "INFO:sleap.nn.training:Training labels file: data.pkg.slp\n",
            "INFO:sleap.nn.training:Training profile: baseline_medium_rf.bottomup.json\n",
            "INFO:sleap.nn.training:\n",
            "INFO:sleap.nn.training:Arguments:\n",
            "INFO:sleap.nn.training:{\n",
            "    \"training_job_path\": \"baseline_medium_rf.bottomup.json\",\n",
            "    \"labels_path\": \"data.pkg.slp\",\n",
            "    \"video_paths\": [\n",
            "        \"\"\n",
            "    ],\n",
            "    \"val_labels\": null,\n",
            "    \"test_labels\": null,\n",
            "    \"tensorboard\": false,\n",
            "    \"save_viz\": false,\n",
            "    \"zmq\": false,\n",
            "    \"run_name\": \"\",\n",
            "    \"prefix\": \"\",\n",
            "    \"suffix\": \"\",\n",
            "    \"cpu\": false,\n",
            "    \"first_gpu\": false,\n",
            "    \"last_gpu\": false,\n",
            "    \"gpu\": 0\n",
            "}\n",
            "INFO:sleap.nn.training:\n",
            "INFO:sleap.nn.training:Training job:\n",
            "INFO:sleap.nn.training:{\n",
            "    \"data\": {\n",
            "        \"labels\": {\n",
            "            \"training_labels\": null,\n",
            "            \"validation_labels\": null,\n",
            "            \"validation_fraction\": 0.1,\n",
            "            \"test_labels\": null,\n",
            "            \"split_by_inds\": false,\n",
            "            \"training_inds\": null,\n",
            "            \"validation_inds\": null,\n",
            "            \"test_inds\": null,\n",
            "            \"search_path_hints\": [],\n",
            "            \"skeletons\": []\n",
            "        },\n",
            "        \"preprocessing\": {\n",
            "            \"ensure_rgb\": false,\n",
            "            \"ensure_grayscale\": false,\n",
            "            \"imagenet_mode\": null,\n",
            "            \"input_scaling\": 1.0,\n",
            "            \"pad_to_stride\": null,\n",
            "            \"resize_and_pad_to_target\": true,\n",
            "            \"target_height\": null,\n",
            "            \"target_width\": null\n",
            "        },\n",
            "        \"instance_cropping\": {\n",
            "            \"center_on_part\": null,\n",
            "            \"crop_size\": null,\n",
            "            \"crop_size_detection_padding\": 16\n",
            "        }\n",
            "    },\n",
            "    \"model\": {\n",
            "        \"backbone\": {\n",
            "            \"leap\": null,\n",
            "            \"unet\": {\n",
            "                \"stem_stride\": null,\n",
            "                \"max_stride\": 32,\n",
            "                \"output_stride\": 4,\n",
            "                \"filters\": 16,\n",
            "                \"filters_rate\": 2.0,\n",
            "                \"middle_block\": true,\n",
            "                \"up_interpolate\": true,\n",
            "                \"stacks\": 1\n",
            "            },\n",
            "            \"hourglass\": null,\n",
            "            \"resnet\": null,\n",
            "            \"pretrained_encoder\": null\n",
            "        },\n",
            "        \"heads\": {\n",
            "            \"single_instance\": null,\n",
            "            \"centroid\": null,\n",
            "            \"centered_instance\": null,\n",
            "            \"multi_instance\": {\n",
            "                \"confmaps\": {\n",
            "                    \"part_names\": null,\n",
            "                    \"sigma\": 2.5,\n",
            "                    \"output_stride\": 4,\n",
            "                    \"loss_weight\": 1.0,\n",
            "                    \"offset_refinement\": false\n",
            "                },\n",
            "                \"pafs\": {\n",
            "                    \"edges\": null,\n",
            "                    \"sigma\": 75.0,\n",
            "                    \"output_stride\": 8,\n",
            "                    \"loss_weight\": 1.0\n",
            "                }\n",
            "            },\n",
            "            \"multi_class_bottomup\": null,\n",
            "            \"multi_class_topdown\": null\n",
            "        }\n",
            "    },\n",
            "    \"optimization\": {\n",
            "        \"preload_data\": true,\n",
            "        \"augmentation_config\": {\n",
            "            \"rotate\": true,\n",
            "            \"rotation_min_angle\": -15.0,\n",
            "            \"rotation_max_angle\": 15.0,\n",
            "            \"translate\": false,\n",
            "            \"translate_min\": -5,\n",
            "            \"translate_max\": 5,\n",
            "            \"scale\": false,\n",
            "            \"scale_min\": 0.9,\n",
            "            \"scale_max\": 1.1,\n",
            "            \"uniform_noise\": false,\n",
            "            \"uniform_noise_min_val\": 0.0,\n",
            "            \"uniform_noise_max_val\": 10.0,\n",
            "            \"gaussian_noise\": false,\n",
            "            \"gaussian_noise_mean\": 5.0,\n",
            "            \"gaussian_noise_stddev\": 1.0,\n",
            "            \"contrast\": false,\n",
            "            \"contrast_min_gamma\": 0.5,\n",
            "            \"contrast_max_gamma\": 2.0,\n",
            "            \"brightness\": false,\n",
            "            \"brightness_min_val\": 0.0,\n",
            "            \"brightness_max_val\": 10.0,\n",
            "            \"random_crop\": false,\n",
            "            \"random_crop_height\": 256,\n",
            "            \"random_crop_width\": 256,\n",
            "            \"random_flip\": false,\n",
            "            \"flip_horizontal\": true\n",
            "        },\n",
            "        \"online_shuffling\": true,\n",
            "        \"shuffle_buffer_size\": 128,\n",
            "        \"prefetch\": true,\n",
            "        \"batch_size\": 4,\n",
            "        \"batches_per_epoch\": null,\n",
            "        \"min_batches_per_epoch\": 200,\n",
            "        \"val_batches_per_epoch\": null,\n",
            "        \"min_val_batches_per_epoch\": 10,\n",
            "        \"epochs\": 200,\n",
            "        \"optimizer\": \"adam\",\n",
            "        \"initial_learning_rate\": 0.0001,\n",
            "        \"learning_rate_schedule\": {\n",
            "            \"reduce_on_plateau\": true,\n",
            "            \"reduction_factor\": 0.5,\n",
            "            \"plateau_min_delta\": 1e-08,\n",
            "            \"plateau_patience\": 8,\n",
            "            \"plateau_cooldown\": 3,\n",
            "            \"min_learning_rate\": 1e-08\n",
            "        },\n",
            "        \"hard_keypoint_mining\": {\n",
            "            \"online_mining\": false,\n",
            "            \"hard_to_easy_ratio\": 2.0,\n",
            "            \"min_hard_keypoints\": 2,\n",
            "            \"max_hard_keypoints\": null,\n",
            "            \"loss_scale\": 5.0\n",
            "        },\n",
            "        \"early_stopping\": {\n",
            "            \"stop_training_on_plateau\": true,\n",
            "            \"plateau_min_delta\": 1e-08,\n",
            "            \"plateau_patience\": 10\n",
            "        }\n",
            "    },\n",
            "    \"outputs\": {\n",
            "        \"save_outputs\": true,\n",
            "        \"run_name\": \"baseline_medium_rf.bottomup\",\n",
            "        \"run_name_prefix\": \"\",\n",
            "        \"run_name_suffix\": null,\n",
            "        \"runs_folder\": \"models\",\n",
            "        \"tags\": [],\n",
            "        \"save_visualizations\": true,\n",
            "        \"delete_viz_images\": true,\n",
            "        \"zip_outputs\": false,\n",
            "        \"log_to_csv\": true,\n",
            "        \"checkpointing\": {\n",
            "            \"initial_model\": false,\n",
            "            \"best_model\": true,\n",
            "            \"every_epoch\": false,\n",
            "            \"latest_model\": false,\n",
            "            \"final_model\": false\n",
            "        },\n",
            "        \"tensorboard\": {\n",
            "            \"write_logs\": false,\n",
            "            \"loss_frequency\": \"epoch\",\n",
            "            \"architecture_graph\": false,\n",
            "            \"profile_graph\": false,\n",
            "            \"visualizations\": true\n",
            "        },\n",
            "        \"zmq\": {\n",
            "            \"subscribe_to_controller\": false,\n",
            "            \"controller_address\": \"tcp://127.0.0.1:9000\",\n",
            "            \"controller_polling_timeout\": 10,\n",
            "            \"publish_updates\": false,\n",
            "            \"publish_address\": \"tcp://127.0.0.1:9001\"\n",
            "        }\n",
            "    },\n",
            "    \"name\": \"\",\n",
            "    \"description\": \"\",\n",
            "    \"sleap_version\": \"1.2.6\",\n",
            "    \"filename\": \"baseline_medium_rf.bottomup.json\"\n",
            "}\n",
            "INFO:sleap.nn.training:\n",
            "INFO:sleap.nn.training:Using GPU 0 for acceleration.\n",
            "INFO:sleap.nn.training:Disabled GPU memory pre-allocation.\n",
            "INFO:sleap.nn.training:System:\n",
            "GPUs: 1/1 available\n",
            "  Device: /physical_device:GPU:0\n",
            "         Available: True\n",
            "        Initalized: False\n",
            "     Memory growth: True\n",
            "INFO:sleap.nn.training:\n",
            "INFO:sleap.nn.training:Initializing trainer...\n",
            "INFO:sleap.nn.training:Loading training labels from: data.pkg.slp\n",
            "INFO:sleap.nn.training:Creating training and validation splits from validation fraction: 0.1\n",
            "INFO:sleap.nn.training:  Splits: Training = 59 / Validation = 7.\n",
            "INFO:sleap.nn.training:Setting up for training...\n",
            "INFO:sleap.nn.training:Setting up pipeline builders...\n",
            "INFO:sleap.nn.training:Setting up model...\n",
            "INFO:sleap.nn.training:Building test pipeline...\n",
            "INFO:sleap.nn.training:Loaded test example. [2.217s]\n",
            "INFO:sleap.nn.training:  Input shape: (480, 640, 3)\n",
            "INFO:sleap.nn.training:Created Keras model.\n",
            "INFO:sleap.nn.training:  Backbone: UNet(stacks=1, filters=16, filters_rate=2.0, kernel_size=3, stem_kernel_size=7, convs_per_block=2, stem_blocks=0, down_blocks=5, middle_block=True, up_blocks=3, up_interpolate=True, block_contraction=False)\n",
            "INFO:sleap.nn.training:  Max stride: 32\n",
            "INFO:sleap.nn.training:  Parameters: 7,818,146\n",
            "INFO:sleap.nn.training:  Heads: \n",
            "INFO:sleap.nn.training:    [0] = MultiInstanceConfmapsHead(part_names=['left_ear', 'right_ear', 'nose', 'tail_base', 'thorax', 'forehead'], sigma=2.5, output_stride=4, loss_weight=1.0)\n",
            "INFO:sleap.nn.training:    [1] = PartAffinityFieldsHead(edges=[('nose', 'forehead'), ('forehead', 'left_ear'), ('forehead', 'right_ear'), ('left_ear', 'thorax'), ('right_ear', 'thorax'), ('thorax', 'tail_base')], sigma=75.0, output_stride=8, loss_weight=1.0)\n",
            "INFO:sleap.nn.training:  Outputs: \n",
            "INFO:sleap.nn.training:    [0] = KerasTensor(type_spec=TensorSpec(shape=(None, 120, 160, 6), dtype=tf.float32, name=None), name='MultiInstanceConfmapsHead/BiasAdd:0', description=\"created by layer 'MultiInstanceConfmapsHead'\")\n",
            "INFO:sleap.nn.training:    [1] = KerasTensor(type_spec=TensorSpec(shape=(None, 60, 80, 12), dtype=tf.float32, name=None), name='PartAffinityFieldsHead/BiasAdd:0', description=\"created by layer 'PartAffinityFieldsHead'\")\n",
            "INFO:sleap.nn.training:Setting up data pipelines...\n",
            "INFO:sleap.nn.training:Training set: n = 59\n",
            "INFO:sleap.nn.training:Validation set: n = 7\n",
            "INFO:sleap.nn.training:Setting up optimization...\n",
            "INFO:sleap.nn.training:  Learning rate schedule: LearningRateScheduleConfig(reduce_on_plateau=True, reduction_factor=0.5, plateau_min_delta=1e-08, plateau_patience=8, plateau_cooldown=3, min_learning_rate=1e-08)\n",
            "INFO:sleap.nn.training:  Early stopping: EarlyStoppingConfig(stop_training_on_plateau=True, plateau_min_delta=1e-08, plateau_patience=10)\n",
            "INFO:sleap.nn.training:Setting up outputs...\n",
            "INFO:sleap.nn.training:Created run path: models/baseline_medium_rf.bottomup\n",
            "INFO:sleap.nn.training:Setting up visualization...\n",
            "2022-08-02 20:44:32.106399: W tensorflow/core/grappler/costs/op_level_cost_estimator.cc:690] Error in PredictCost() for the op: op: \"CropAndResize\" attr { key: \"T\" value { type: DT_FLOAT } } attr { key: \"extrapolation_value\" value { f: 0 } } attr { key: \"method\" value { s: \"bilinear\" } } inputs { dtype: DT_FLOAT shape { dim { size: -33 } dim { size: -34 } dim { size: -35 } dim { size: 1 } } } inputs { dtype: DT_FLOAT shape { dim { size: -2 } dim { size: 4 } } } inputs { dtype: DT_INT32 shape { dim { size: -2 } } } inputs { dtype: DT_INT32 shape { dim { size: 2 } } } device { type: \"GPU\" vendor: \"NVIDIA\" model: \"Tesla T4\" frequency: 1590 num_cores: 40 environment { key: \"architecture\" value: \"7.5\" } environment { key: \"cuda\" value: \"11010\" } environment { key: \"cudnn\" value: \"8005\" } num_registers: 65536 l1_cache_size: 24576 l2_cache_size: 4194304 shared_memory_size_per_multiprocessor: 65536 memory_size: 14150270976 bandwidth: 320064000 } outputs { dtype: DT_FLOAT shape { dim { size: -2 } dim { size: -36 } dim { size: -37 } dim { size: 1 } } }\n",
            "2022-08-02 20:44:33.244739: W tensorflow/core/grappler/costs/op_level_cost_estimator.cc:690] Error in PredictCost() for the op: op: \"CropAndResize\" attr { key: \"T\" value { type: DT_FLOAT } } attr { key: \"extrapolation_value\" value { f: 0 } } attr { key: \"method\" value { s: \"bilinear\" } } inputs { dtype: DT_FLOAT shape { dim { size: -33 } dim { size: -34 } dim { size: -35 } dim { size: 1 } } } inputs { dtype: DT_FLOAT shape { dim { size: -2 } dim { size: 4 } } } inputs { dtype: DT_INT32 shape { dim { size: -2 } } } inputs { dtype: DT_INT32 shape { dim { size: 2 } } } device { type: \"GPU\" vendor: \"NVIDIA\" model: \"Tesla T4\" frequency: 1590 num_cores: 40 environment { key: \"architecture\" value: \"7.5\" } environment { key: \"cuda\" value: \"11010\" } environment { key: \"cudnn\" value: \"8005\" } num_registers: 65536 l1_cache_size: 24576 l2_cache_size: 4194304 shared_memory_size_per_multiprocessor: 65536 memory_size: 14150270976 bandwidth: 320064000 } outputs { dtype: DT_FLOAT shape { dim { size: -2 } dim { size: -36 } dim { size: -37 } dim { size: 1 } } }\n",
            "Unable to use Qt backend for matplotlib. This probably means Qt is running headless.\n",
            "INFO:sleap.nn.training:Finished trainer set up. [6.0s]\n",
            "INFO:sleap.nn.training:Creating tf.data.Datasets for training data generation...\n",
            "INFO:sleap.nn.training:Finished creating training datasets. [4.5s]\n",
            "INFO:sleap.nn.training:Starting training loop...\n",
            "Epoch 1/200\n",
            "200/200 - 58s - loss: 0.0044 - MultiInstanceConfmapsHead_loss: 0.0015 - PartAffinityFieldsHead_loss: 0.0028 - val_loss: 0.0027 - val_MultiInstanceConfmapsHead_loss: 8.9419e-04 - val_PartAffinityFieldsHead_loss: 0.0018 - lr: 1.0000e-04 - 58s/epoch - 292ms/step\n",
            "Epoch 2/200\n",
            "200/200 - 43s - loss: 0.0026 - MultiInstanceConfmapsHead_loss: 8.4311e-04 - PartAffinityFieldsHead_loss: 0.0017 - val_loss: 0.0018 - val_MultiInstanceConfmapsHead_loss: 6.0671e-04 - val_PartAffinityFieldsHead_loss: 0.0012 - lr: 1.0000e-04 - 43s/epoch - 217ms/step\n",
            "Epoch 3/200\n",
            "200/200 - 41s - loss: 0.0019 - MultiInstanceConfmapsHead_loss: 6.0571e-04 - PartAffinityFieldsHead_loss: 0.0013 - val_loss: 0.0017 - val_MultiInstanceConfmapsHead_loss: 5.4753e-04 - val_PartAffinityFieldsHead_loss: 0.0011 - lr: 1.0000e-04 - 41s/epoch - 207ms/step\n",
            "Epoch 4/200\n",
            "200/200 - 43s - loss: 0.0015 - MultiInstanceConfmapsHead_loss: 4.5584e-04 - PartAffinityFieldsHead_loss: 0.0010 - val_loss: 0.0015 - val_MultiInstanceConfmapsHead_loss: 5.1206e-04 - val_PartAffinityFieldsHead_loss: 0.0010 - lr: 1.0000e-04 - 43s/epoch - 216ms/step\n",
            "Epoch 5/200\n",
            "200/200 - 44s - loss: 0.0012 - MultiInstanceConfmapsHead_loss: 3.5799e-04 - PartAffinityFieldsHead_loss: 8.2691e-04 - val_loss: 0.0015 - val_MultiInstanceConfmapsHead_loss: 5.1955e-04 - val_PartAffinityFieldsHead_loss: 0.0010 - lr: 1.0000e-04 - 44s/epoch - 218ms/step\n",
            "Epoch 6/200\n",
            "200/200 - 40s - loss: 9.5483e-04 - MultiInstanceConfmapsHead_loss: 2.8044e-04 - PartAffinityFieldsHead_loss: 6.7439e-04 - val_loss: 0.0014 - val_MultiInstanceConfmapsHead_loss: 4.8022e-04 - val_PartAffinityFieldsHead_loss: 9.4500e-04 - lr: 1.0000e-04 - 40s/epoch - 200ms/step\n",
            "Epoch 7/200\n",
            "200/200 - 42s - loss: 7.8792e-04 - MultiInstanceConfmapsHead_loss: 2.2387e-04 - PartAffinityFieldsHead_loss: 5.6404e-04 - val_loss: 0.0013 - val_MultiInstanceConfmapsHead_loss: 4.4828e-04 - val_PartAffinityFieldsHead_loss: 8.5259e-04 - lr: 1.0000e-04 - 42s/epoch - 209ms/step\n",
            "Epoch 8/200\n",
            "200/200 - 40s - loss: 6.4381e-04 - MultiInstanceConfmapsHead_loss: 1.7423e-04 - PartAffinityFieldsHead_loss: 4.6958e-04 - val_loss: 0.0013 - val_MultiInstanceConfmapsHead_loss: 4.4607e-04 - val_PartAffinityFieldsHead_loss: 8.6143e-04 - lr: 1.0000e-04 - 40s/epoch - 202ms/step\n",
            "Epoch 9/200\n",
            "200/200 - 42s - loss: 5.5231e-04 - MultiInstanceConfmapsHead_loss: 1.4695e-04 - PartAffinityFieldsHead_loss: 4.0535e-04 - val_loss: 0.0013 - val_MultiInstanceConfmapsHead_loss: 4.5852e-04 - val_PartAffinityFieldsHead_loss: 8.7576e-04 - lr: 1.0000e-04 - 42s/epoch - 209ms/step\n",
            "Epoch 10/200\n",
            "200/200 - 43s - loss: 4.8054e-04 - MultiInstanceConfmapsHead_loss: 1.2715e-04 - PartAffinityFieldsHead_loss: 3.5339e-04 - val_loss: 0.0012 - val_MultiInstanceConfmapsHead_loss: 4.1173e-04 - val_PartAffinityFieldsHead_loss: 8.0040e-04 - lr: 1.0000e-04 - 43s/epoch - 217ms/step\n",
            "Epoch 11/200\n",
            "200/200 - 41s - loss: 4.1687e-04 - MultiInstanceConfmapsHead_loss: 1.0633e-04 - PartAffinityFieldsHead_loss: 3.1054e-04 - val_loss: 0.0012 - val_MultiInstanceConfmapsHead_loss: 4.2891e-04 - val_PartAffinityFieldsHead_loss: 8.1675e-04 - lr: 1.0000e-04 - 41s/epoch - 205ms/step\n",
            "Epoch 12/200\n",
            "200/200 - 42s - loss: 3.5832e-04 - MultiInstanceConfmapsHead_loss: 9.0727e-05 - PartAffinityFieldsHead_loss: 2.6760e-04 - val_loss: 0.0011 - val_MultiInstanceConfmapsHead_loss: 3.7870e-04 - val_PartAffinityFieldsHead_loss: 7.0584e-04 - lr: 1.0000e-04 - 42s/epoch - 209ms/step\n",
            "Epoch 13/200\n",
            "200/200 - 41s - loss: 3.2543e-04 - MultiInstanceConfmapsHead_loss: 8.1774e-05 - PartAffinityFieldsHead_loss: 2.4365e-04 - val_loss: 0.0012 - val_MultiInstanceConfmapsHead_loss: 3.9557e-04 - val_PartAffinityFieldsHead_loss: 7.5516e-04 - lr: 1.0000e-04 - 41s/epoch - 207ms/step\n",
            "Epoch 14/200\n",
            "200/200 - 40s - loss: 2.9308e-04 - MultiInstanceConfmapsHead_loss: 7.2786e-05 - PartAffinityFieldsHead_loss: 2.2029e-04 - val_loss: 0.0011 - val_MultiInstanceConfmapsHead_loss: 3.8764e-04 - val_PartAffinityFieldsHead_loss: 7.5103e-04 - lr: 1.0000e-04 - 40s/epoch - 200ms/step\n",
            "Epoch 15/200\n",
            "200/200 - 41s - loss: 2.7595e-04 - MultiInstanceConfmapsHead_loss: 6.8030e-05 - PartAffinityFieldsHead_loss: 2.0792e-04 - val_loss: 0.0012 - val_MultiInstanceConfmapsHead_loss: 4.1461e-04 - val_PartAffinityFieldsHead_loss: 8.0304e-04 - lr: 1.0000e-04 - 41s/epoch - 205ms/step\n",
            "Epoch 16/200\n",
            "200/200 - 42s - loss: 2.4525e-04 - MultiInstanceConfmapsHead_loss: 5.8950e-05 - PartAffinityFieldsHead_loss: 1.8630e-04 - val_loss: 0.0012 - val_MultiInstanceConfmapsHead_loss: 3.9726e-04 - val_PartAffinityFieldsHead_loss: 7.7567e-04 - lr: 1.0000e-04 - 42s/epoch - 210ms/step\n",
            "Epoch 17/200\n",
            "200/200 - 41s - loss: 2.2659e-04 - MultiInstanceConfmapsHead_loss: 5.3896e-05 - PartAffinityFieldsHead_loss: 1.7269e-04 - val_loss: 0.0011 - val_MultiInstanceConfmapsHead_loss: 3.8811e-04 - val_PartAffinityFieldsHead_loss: 7.4281e-04 - lr: 1.0000e-04 - 41s/epoch - 205ms/step\n",
            "Epoch 18/200\n",
            "200/200 - 42s - loss: 2.0778e-04 - MultiInstanceConfmapsHead_loss: 4.9191e-05 - PartAffinityFieldsHead_loss: 1.5859e-04 - val_loss: 0.0012 - val_MultiInstanceConfmapsHead_loss: 4.1674e-04 - val_PartAffinityFieldsHead_loss: 7.9528e-04 - lr: 1.0000e-04 - 42s/epoch - 211ms/step\n",
            "Epoch 19/200\n",
            "200/200 - 42s - loss: 1.9786e-04 - MultiInstanceConfmapsHead_loss: 4.6568e-05 - PartAffinityFieldsHead_loss: 1.5129e-04 - val_loss: 0.0012 - val_MultiInstanceConfmapsHead_loss: 4.0688e-04 - val_PartAffinityFieldsHead_loss: 8.0018e-04 - lr: 1.0000e-04 - 42s/epoch - 209ms/step\n",
            "Epoch 20/200\n",
            "\n",
            "Epoch 20: ReduceLROnPlateau reducing learning rate to 4.999999873689376e-05.\n",
            "200/200 - 41s - loss: 1.8673e-04 - MultiInstanceConfmapsHead_loss: 4.2932e-05 - PartAffinityFieldsHead_loss: 1.4380e-04 - val_loss: 0.0012 - val_MultiInstanceConfmapsHead_loss: 4.1492e-04 - val_PartAffinityFieldsHead_loss: 8.1170e-04 - lr: 1.0000e-04 - 41s/epoch - 207ms/step\n",
            "Epoch 21/200\n",
            "200/200 - 41s - loss: 1.4327e-04 - MultiInstanceConfmapsHead_loss: 2.9542e-05 - PartAffinityFieldsHead_loss: 1.1372e-04 - val_loss: 0.0011 - val_MultiInstanceConfmapsHead_loss: 3.8372e-04 - val_PartAffinityFieldsHead_loss: 7.3862e-04 - lr: 5.0000e-05 - 41s/epoch - 204ms/step\n",
            "Epoch 22/200\n",
            "200/200 - 43s - loss: 1.3373e-04 - MultiInstanceConfmapsHead_loss: 2.7041e-05 - PartAffinityFieldsHead_loss: 1.0669e-04 - val_loss: 0.0011 - val_MultiInstanceConfmapsHead_loss: 3.7555e-04 - val_PartAffinityFieldsHead_loss: 7.0822e-04 - lr: 5.0000e-05 - 43s/epoch - 213ms/step\n",
            "Epoch 23/200\n",
            "200/200 - 41s - loss: 1.2866e-04 - MultiInstanceConfmapsHead_loss: 2.5653e-05 - PartAffinityFieldsHead_loss: 1.0300e-04 - val_loss: 0.0011 - val_MultiInstanceConfmapsHead_loss: 3.8142e-04 - val_PartAffinityFieldsHead_loss: 7.4598e-04 - lr: 5.0000e-05 - 41s/epoch - 206ms/step\n",
            "Epoch 24/200\n",
            "200/200 - 43s - loss: 1.2522e-04 - MultiInstanceConfmapsHead_loss: 2.4959e-05 - PartAffinityFieldsHead_loss: 1.0026e-04 - val_loss: 0.0011 - val_MultiInstanceConfmapsHead_loss: 3.6067e-04 - val_PartAffinityFieldsHead_loss: 7.2086e-04 - lr: 5.0000e-05 - 43s/epoch - 216ms/step\n",
            "Epoch 25/200\n",
            "200/200 - 41s - loss: 1.2036e-04 - MultiInstanceConfmapsHead_loss: 2.3719e-05 - PartAffinityFieldsHead_loss: 9.6644e-05 - val_loss: 0.0011 - val_MultiInstanceConfmapsHead_loss: 3.8417e-04 - val_PartAffinityFieldsHead_loss: 7.4325e-04 - lr: 5.0000e-05 - 41s/epoch - 206ms/step\n",
            "Epoch 26/200\n",
            "200/200 - 40s - loss: 1.1773e-04 - MultiInstanceConfmapsHead_loss: 2.2953e-05 - PartAffinityFieldsHead_loss: 9.4779e-05 - val_loss: 0.0011 - val_MultiInstanceConfmapsHead_loss: 3.8687e-04 - val_PartAffinityFieldsHead_loss: 7.5268e-04 - lr: 5.0000e-05 - 40s/epoch - 202ms/step\n",
            "Epoch 27/200\n",
            "200/200 - 42s - loss: 1.1418e-04 - MultiInstanceConfmapsHead_loss: 2.2598e-05 - PartAffinityFieldsHead_loss: 9.1583e-05 - val_loss: 0.0011 - val_MultiInstanceConfmapsHead_loss: 3.6900e-04 - val_PartAffinityFieldsHead_loss: 7.3936e-04 - lr: 5.0000e-05 - 42s/epoch - 208ms/step\n",
            "Epoch 28/200\n",
            "200/200 - 42s - loss: 1.1202e-04 - MultiInstanceConfmapsHead_loss: 2.2129e-05 - PartAffinityFieldsHead_loss: 8.9890e-05 - val_loss: 0.0012 - val_MultiInstanceConfmapsHead_loss: 4.0304e-04 - val_PartAffinityFieldsHead_loss: 7.8649e-04 - lr: 5.0000e-05 - 42s/epoch - 209ms/step\n",
            "Epoch 29/200\n",
            "200/200 - 43s - loss: 1.0670e-04 - MultiInstanceConfmapsHead_loss: 2.0594e-05 - PartAffinityFieldsHead_loss: 8.6102e-05 - val_loss: 0.0013 - val_MultiInstanceConfmapsHead_loss: 4.2529e-04 - val_PartAffinityFieldsHead_loss: 8.2509e-04 - lr: 5.0000e-05 - 43s/epoch - 215ms/step\n",
            "Epoch 30/200\n",
            "200/200 - 42s - loss: 1.0525e-04 - MultiInstanceConfmapsHead_loss: 2.0420e-05 - PartAffinityFieldsHead_loss: 8.4833e-05 - val_loss: 0.0012 - val_MultiInstanceConfmapsHead_loss: 4.2716e-04 - val_PartAffinityFieldsHead_loss: 8.1453e-04 - lr: 5.0000e-05 - 42s/epoch - 211ms/step\n",
            "Epoch 31/200\n",
            "200/200 - 40s - loss: 1.0255e-04 - MultiInstanceConfmapsHead_loss: 1.9618e-05 - PartAffinityFieldsHead_loss: 8.2930e-05 - val_loss: 0.0011 - val_MultiInstanceConfmapsHead_loss: 3.8682e-04 - val_PartAffinityFieldsHead_loss: 7.5498e-04 - lr: 5.0000e-05 - 40s/epoch - 199ms/step\n",
            "Epoch 32/200\n",
            "\n",
            "Epoch 32: ReduceLROnPlateau reducing learning rate to 2.499999936844688e-05.\n",
            "200/200 - 42s - loss: 1.0025e-04 - MultiInstanceConfmapsHead_loss: 1.9127e-05 - PartAffinityFieldsHead_loss: 8.1123e-05 - val_loss: 0.0012 - val_MultiInstanceConfmapsHead_loss: 3.9890e-04 - val_PartAffinityFieldsHead_loss: 7.6527e-04 - lr: 5.0000e-05 - 42s/epoch - 212ms/step\n",
            "Epoch 33/200\n",
            "200/200 - 41s - loss: 9.4190e-05 - MultiInstanceConfmapsHead_loss: 1.7510e-05 - PartAffinityFieldsHead_loss: 7.6681e-05 - val_loss: 0.0012 - val_MultiInstanceConfmapsHead_loss: 4.1505e-04 - val_PartAffinityFieldsHead_loss: 8.0055e-04 - lr: 2.5000e-05 - 41s/epoch - 204ms/step\n",
            "Epoch 34/200\n",
            "200/200 - 42s - loss: 9.2113e-05 - MultiInstanceConfmapsHead_loss: 1.7016e-05 - PartAffinityFieldsHead_loss: 7.5097e-05 - val_loss: 0.0011 - val_MultiInstanceConfmapsHead_loss: 3.6550e-04 - val_PartAffinityFieldsHead_loss: 7.1657e-04 - lr: 2.5000e-05 - 42s/epoch - 208ms/step\n",
            "Epoch 34: early stopping\n",
            "INFO:sleap.nn.training:Finished training loop. [23.9 min]\n",
            "INFO:sleap.nn.training:Deleting visualization directory: models/baseline_medium_rf.bottomup/viz\n",
            "INFO:sleap.nn.training:Saving evaluation metrics to model folder...\n",
            "\u001b[2KPredicting... \u001b[90m━━━━━━━━━━━━━━━━━━━━━━━━━━━━━━━━━━━━━━━━\u001b[0m \u001b[35m  0%\u001b[0m ETA: \u001b[36m-:--:--\u001b[0m \u001b[31m?\u001b[0m2022-08-02 21:09:07.120718: W tensorflow/core/grappler/costs/op_level_cost_estimator.cc:690] Error in PredictCost() for the op: op: \"CropAndResize\" attr { key: \"T\" value { type: DT_FLOAT } } attr { key: \"extrapolation_value\" value { f: 0 } } attr { key: \"method\" value { s: \"bilinear\" } } inputs { dtype: DT_FLOAT shape { dim { size: -65 } dim { size: -66 } dim { size: -67 } dim { size: 1 } } } inputs { dtype: DT_FLOAT shape { dim { size: -2 } dim { size: 4 } } } inputs { dtype: DT_INT32 shape { dim { size: -2 } } } inputs { dtype: DT_INT32 shape { dim { size: 2 } } } device { type: \"GPU\" vendor: \"NVIDIA\" model: \"Tesla T4\" frequency: 1590 num_cores: 40 environment { key: \"architecture\" value: \"7.5\" } environment { key: \"cuda\" value: \"11010\" } environment { key: \"cudnn\" value: \"8005\" } num_registers: 65536 l1_cache_size: 24576 l2_cache_size: 4194304 shared_memory_size_per_multiprocessor: 65536 memory_size: 14150270976 bandwidth: 320064000 } outputs { dtype: DT_FLOAT shape { dim { size: -2 } dim { size: -68 } dim { size: -69 } dim { size: 1 } } }\n",
            "\u001b[2KPredicting... \u001b[91m━━━━━━━━━━━━━━━━━━━━━━━━━━━━━━━━━━━━━\u001b[0m\u001b[90m╺\u001b[0m\u001b[90m━\u001b[0m \u001b[35m 95%\u001b[0m ETA: \u001b[36m0:00:01\u001b[0m \u001b[31m26.7 FPS\u001b[0m2022-08-02 21:09:12.824536: W tensorflow/core/grappler/costs/op_level_cost_estimator.cc:690] Error in PredictCost() for the op: op: \"CropAndResize\" attr { key: \"T\" value { type: DT_FLOAT } } attr { key: \"extrapolation_value\" value { f: 0 } } attr { key: \"method\" value { s: \"bilinear\" } } inputs { dtype: DT_FLOAT shape { dim { size: -65 } dim { size: -66 } dim { size: -67 } dim { size: 1 } } } inputs { dtype: DT_FLOAT shape { dim { size: -2 } dim { size: 4 } } } inputs { dtype: DT_INT32 shape { dim { size: -2 } } } inputs { dtype: DT_INT32 shape { dim { size: 2 } } } device { type: \"GPU\" vendor: \"NVIDIA\" model: \"Tesla T4\" frequency: 1590 num_cores: 40 environment { key: \"architecture\" value: \"7.5\" } environment { key: \"cuda\" value: \"11010\" } environment { key: \"cudnn\" value: \"8005\" } num_registers: 65536 l1_cache_size: 24576 l2_cache_size: 4194304 shared_memory_size_per_multiprocessor: 65536 memory_size: 14150270976 bandwidth: 320064000 } outputs { dtype: DT_FLOAT shape { dim { size: -2 } dim { size: -68 } dim { size: -69 } dim { size: 1 } } }\n",
            "\u001b[2KPredicting... \u001b[90m━━━━━━━━━━━━━━━━━━━━━━━━━━━━━━━━━━━━━━━━\u001b[0m \u001b[35m100%\u001b[0m ETA: \u001b[36m0:00:00\u001b[0m \u001b[31m3.9 FPS\u001b[0m\n",
            "\u001b[?25hINFO:sleap.nn.evals:Saved predictions: models/baseline_medium_rf.bottomup/labels_pr.train.slp\n",
            "INFO:sleap.nn.evals:Saved metrics: models/baseline_medium_rf.bottomup/metrics.train.npz\n",
            "INFO:sleap.nn.evals:OKS mAP: 0.945146\n",
            "\u001b[2KPredicting... \u001b[90m━━━━━━━━━━━━━━━━━━━━━━━━━━━━━━━━━━━━━━━━\u001b[0m \u001b[35m  0%\u001b[0m ETA: \u001b[36m-:--:--\u001b[0m \u001b[31m?\u001b[0m2022-08-02 21:09:26.327517: W tensorflow/core/grappler/costs/op_level_cost_estimator.cc:690] Error in PredictCost() for the op: op: \"CropAndResize\" attr { key: \"T\" value { type: DT_FLOAT } } attr { key: \"extrapolation_value\" value { f: 0 } } attr { key: \"method\" value { s: \"bilinear\" } } inputs { dtype: DT_FLOAT shape { dim { size: -65 } dim { size: -66 } dim { size: -67 } dim { size: 1 } } } inputs { dtype: DT_FLOAT shape { dim { size: -2 } dim { size: 4 } } } inputs { dtype: DT_INT32 shape { dim { size: -2 } } } inputs { dtype: DT_INT32 shape { dim { size: 2 } } } device { type: \"GPU\" vendor: \"NVIDIA\" model: \"Tesla T4\" frequency: 1590 num_cores: 40 environment { key: \"architecture\" value: \"7.5\" } environment { key: \"cuda\" value: \"11010\" } environment { key: \"cudnn\" value: \"8005\" } num_registers: 65536 l1_cache_size: 24576 l2_cache_size: 4194304 shared_memory_size_per_multiprocessor: 65536 memory_size: 14150270976 bandwidth: 320064000 } outputs { dtype: DT_FLOAT shape { dim { size: -2 } dim { size: -68 } dim { size: -69 } dim { size: 1 } } }\n",
            "\u001b[2KPredicting... \u001b[91m━━━━━━━━━━━━━━━━━━━━━━\u001b[0m\u001b[91m╸\u001b[0m\u001b[90m━━━━━━━━━━━━━━━━━\u001b[0m \u001b[35m 57%\u001b[0m ETA: \u001b[36m-:--:--\u001b[0m \u001b[31m?\u001b[0m2022-08-02 21:09:29.639413: W tensorflow/core/grappler/costs/op_level_cost_estimator.cc:690] Error in PredictCost() for the op: op: \"CropAndResize\" attr { key: \"T\" value { type: DT_FLOAT } } attr { key: \"extrapolation_value\" value { f: 0 } } attr { key: \"method\" value { s: \"bilinear\" } } inputs { dtype: DT_FLOAT shape { dim { size: -65 } dim { size: -66 } dim { size: -67 } dim { size: 1 } } } inputs { dtype: DT_FLOAT shape { dim { size: -2 } dim { size: 4 } } } inputs { dtype: DT_INT32 shape { dim { size: -2 } } } inputs { dtype: DT_INT32 shape { dim { size: 2 } } } device { type: \"GPU\" vendor: \"NVIDIA\" model: \"Tesla T4\" frequency: 1590 num_cores: 40 environment { key: \"architecture\" value: \"7.5\" } environment { key: \"cuda\" value: \"11010\" } environment { key: \"cudnn\" value: \"8005\" } num_registers: 65536 l1_cache_size: 24576 l2_cache_size: 4194304 shared_memory_size_per_multiprocessor: 65536 memory_size: 14150270976 bandwidth: 320064000 } outputs { dtype: DT_FLOAT shape { dim { size: -2 } dim { size: -68 } dim { size: -69 } dim { size: 1 } } }\n",
            "\u001b[2KPredicting... \u001b[90m━━━━━━━━━━━━━━━━━━━━━━━━━━━━━━━━━━━━━━━━\u001b[0m \u001b[35m100%\u001b[0m ETA: \u001b[36m0:00:00\u001b[0m \u001b[31m0.9 FPS\u001b[0m\n",
            "\u001b[?25hINFO:sleap.nn.evals:Saved predictions: models/baseline_medium_rf.bottomup/labels_pr.val.slp\n",
            "INFO:sleap.nn.evals:Saved metrics: models/baseline_medium_rf.bottomup/metrics.val.npz\n",
            "INFO:sleap.nn.evals:OKS mAP: 0.419514\n"
          ]
        }
      ],
      "source": [
        "!sleap-train baseline_medium_rf.bottomup.json data.pkg.slp"
      ]
    },
    {
      "cell_type": "markdown",
      "metadata": {
        "id": "whOf8PaFxYbt"
      },
      "source": [
        "Once training finishes, you'll have a trained model for confidence maps on your Google Drive. There will be a `models/` directory inside your `sleap/` directory (or wherever you had the training package), and inside this there will be a `colab_demo.bottomup` directory (the name of this directory was set by the `--run_name` parameter). \n",
        "\n",
        "This `colab_demo.bottomup` directory contains all the files SLEAP needs to use this model. You can copy it to a local drive if you want to use it for running inference from the SLEAP GUI, copy it to a network drive if you want to run inference from an HPC cluster, or leave it on your Google Drive if you want to run inference on Colab... as we'll do below."
      ]
    },
    {
      "cell_type": "markdown",
      "metadata": {
        "id": "Q7JUp9P840qB"
      },
      "source": [
        "## Training other models\n",
        "\n",
        "The **bottomup** model you trained above can be used for \"bottom up\" inference. You can also train a **centroid** model and a **centered instance** model for \"top down\" inference. See [here](https://sleap.ai/#getting-started-with-sleap) for more information about these two different approaches.\n",
        "\n",
        "Here's how to train centroid and centered instance models using the default training settings:"
      ]
    },
    {
      "cell_type": "code",
      "execution_count": null,
      "metadata": {
        "id": "WZVftKcJ46jU"
      },
      "outputs": [],
      "source": [
        "!sleap-train baseline_medium_rf.topdown.json data.pkg.slp"
      ]
    },
    {
      "cell_type": "code",
      "execution_count": null,
      "metadata": {
        "id": "DsPTDnkW49-5"
      },
      "outputs": [],
      "source": [
        "!sleap-train baseline.centroid.json data.pkg.slp"
      ]
    },
    {
      "cell_type": "markdown",
      "metadata": {
        "id": "nIsKUX661xFK"
      },
      "source": [
        "# Inference\n",
        "\n",
        "At this point you should have SLEAP installed, your Google Drive mounted, and trained models saved on your Google Drive. If you've been working through the notebook, you should have a `models` subdirectory inside your current working directory. Let's take a look:"
      ]
    },
    {
      "cell_type": "code",
      "execution_count": 8,
      "metadata": {
        "id": "01HDohE5upwQ",
        "outputId": "0374c84a-5e51-41f4-875e-75d923765529",
        "colab": {
          "base_uri": "https://localhost:8080/"
        }
      },
      "outputs": [
        {
          "output_type": "stream",
          "name": "stdout",
          "text": [
            "baseline_medium_rf.bottomup\n"
          ]
        }
      ],
      "source": [
        "!ls models"
      ]
    },
    {
      "cell_type": "markdown",
      "metadata": {
        "id": "MNi260mJuyJ7"
      },
      "source": [
        "We'll also need a video for which we want predictions. Copy the video onto your Google drive.\n",
        "\n",
        "For this demo we'll just get predictions for the first 200 frames (or you can adjust the `--frames` parameter below or remove it to run on the whole video).\n",
        "\n",
        "**Important**: If your video is not named `colab_demo.mp4`, change this in the following cell to match the name of your video. If you trained top-down models and not a bottom-up model, see the end of the notebook for how to run inference with the pair of top-down models."
      ]
    },
    {
      "cell_type": "code",
      "execution_count": 11,
      "metadata": {
        "id": "CLtjtq9E1Znr",
        "outputId": "f62b4839-0ae2-4210-ac6e-8130c34d7b77",
        "colab": {
          "base_uri": "https://localhost:8080/"
        }
      },
      "outputs": [
        {
          "output_type": "stream",
          "name": "stdout",
          "text": [
            "INFO:numexpr.utils:NumExpr defaulting to 2 threads.\n",
            "Started inference at: 2022-08-02 21:13:29.884276\n",
            "Args:\n",
            "\u001b[1m{\u001b[0m\n",
            "\u001b[2;32m│   \u001b[0m\u001b[32m'data_path'\u001b[0m: \u001b[32m'video.AVI'\u001b[0m,\n",
            "\u001b[2;32m│   \u001b[0m\u001b[32m'models'\u001b[0m: \u001b[1m[\u001b[0m\u001b[32m'models/baseline_medium_rf.bottomup'\u001b[0m\u001b[1m]\u001b[0m,\n",
            "\u001b[2;32m│   \u001b[0m\u001b[32m'frames'\u001b[0m: \u001b[32m'0-200'\u001b[0m,\n",
            "\u001b[2;32m│   \u001b[0m\u001b[32m'only_labeled_frames'\u001b[0m: \u001b[3;91mFalse\u001b[0m,\n",
            "\u001b[2;32m│   \u001b[0m\u001b[32m'only_suggested_frames'\u001b[0m: \u001b[3;91mFalse\u001b[0m,\n",
            "\u001b[2;32m│   \u001b[0m\u001b[32m'output'\u001b[0m: \u001b[3;35mNone\u001b[0m,\n",
            "\u001b[2;32m│   \u001b[0m\u001b[32m'no_empty_frames'\u001b[0m: \u001b[3;91mFalse\u001b[0m,\n",
            "\u001b[2;32m│   \u001b[0m\u001b[32m'verbosity'\u001b[0m: \u001b[32m'rich'\u001b[0m,\n",
            "\u001b[2;32m│   \u001b[0m\u001b[32m'video.dataset'\u001b[0m: \u001b[3;35mNone\u001b[0m,\n",
            "\u001b[2;32m│   \u001b[0m\u001b[32m'video.input_format'\u001b[0m: \u001b[32m'channels_last'\u001b[0m,\n",
            "\u001b[2;32m│   \u001b[0m\u001b[32m'cpu'\u001b[0m: \u001b[3;91mFalse\u001b[0m,\n",
            "\u001b[2;32m│   \u001b[0m\u001b[32m'first_gpu'\u001b[0m: \u001b[3;91mFalse\u001b[0m,\n",
            "\u001b[2;32m│   \u001b[0m\u001b[32m'last_gpu'\u001b[0m: \u001b[3;91mFalse\u001b[0m,\n",
            "\u001b[2;32m│   \u001b[0m\u001b[32m'gpu'\u001b[0m: \u001b[1;36m0\u001b[0m,\n",
            "\u001b[2;32m│   \u001b[0m\u001b[32m'max_edge_length_ratio'\u001b[0m: \u001b[1;36m0.25\u001b[0m,\n",
            "\u001b[2;32m│   \u001b[0m\u001b[32m'dist_penalty_weight'\u001b[0m: \u001b[1;36m1.0\u001b[0m,\n",
            "\u001b[2;32m│   \u001b[0m\u001b[32m'batch_size'\u001b[0m: \u001b[1;36m4\u001b[0m,\n",
            "\u001b[2;32m│   \u001b[0m\u001b[32m'open_in_gui'\u001b[0m: \u001b[3;91mFalse\u001b[0m,\n",
            "\u001b[2;32m│   \u001b[0m\u001b[32m'peak_threshold'\u001b[0m: \u001b[1;36m0.2\u001b[0m,\n",
            "\u001b[2;32m│   \u001b[0m\u001b[32m'tracking.tracker'\u001b[0m: \u001b[32m'flow'\u001b[0m,\n",
            "\u001b[2;32m│   \u001b[0m\u001b[32m'tracking.target_instance_count'\u001b[0m: \u001b[1;36m2\u001b[0m,\n",
            "\u001b[2;32m│   \u001b[0m\u001b[32m'tracking.pre_cull_to_target'\u001b[0m: \u001b[3;35mNone\u001b[0m,\n",
            "\u001b[2;32m│   \u001b[0m\u001b[32m'tracking.pre_cull_iou_threshold'\u001b[0m: \u001b[3;35mNone\u001b[0m,\n",
            "\u001b[2;32m│   \u001b[0m\u001b[32m'tracking.post_connect_single_breaks'\u001b[0m: \u001b[3;35mNone\u001b[0m,\n",
            "\u001b[2;32m│   \u001b[0m\u001b[32m'tracking.clean_instance_count'\u001b[0m: \u001b[1;36m2\u001b[0m,\n",
            "\u001b[2;32m│   \u001b[0m\u001b[32m'tracking.clean_iou_threshold'\u001b[0m: \u001b[3;35mNone\u001b[0m,\n",
            "\u001b[2;32m│   \u001b[0m\u001b[32m'tracking.similarity'\u001b[0m: \u001b[32m'centroid'\u001b[0m,\n",
            "\u001b[2;32m│   \u001b[0m\u001b[32m'tracking.match'\u001b[0m: \u001b[32m'greedy'\u001b[0m,\n",
            "\u001b[2;32m│   \u001b[0m\u001b[32m'tracking.track_window'\u001b[0m: \u001b[3;35mNone\u001b[0m,\n",
            "\u001b[2;32m│   \u001b[0m\u001b[32m'tracking.min_new_track_points'\u001b[0m: \u001b[3;35mNone\u001b[0m,\n",
            "\u001b[2;32m│   \u001b[0m\u001b[32m'tracking.min_match_points'\u001b[0m: \u001b[3;35mNone\u001b[0m,\n",
            "\u001b[2;32m│   \u001b[0m\u001b[32m'tracking.img_scale'\u001b[0m: \u001b[3;35mNone\u001b[0m,\n",
            "\u001b[2;32m│   \u001b[0m\u001b[32m'tracking.of_window_size'\u001b[0m: \u001b[3;35mNone\u001b[0m,\n",
            "\u001b[2;32m│   \u001b[0m\u001b[32m'tracking.of_max_levels'\u001b[0m: \u001b[3;35mNone\u001b[0m,\n",
            "\u001b[2;32m│   \u001b[0m\u001b[32m'tracking.kf_node_indices'\u001b[0m: \u001b[3;35mNone\u001b[0m,\n",
            "\u001b[2;32m│   \u001b[0m\u001b[32m'tracking.kf_init_frame_count'\u001b[0m: \u001b[3;35mNone\u001b[0m\n",
            "\u001b[1m}\u001b[0m\n",
            "\n",
            "Versions:\n",
            "SLEAP: 1.2.6\n",
            "TensorFlow: 2.8.2\n",
            "Numpy: 1.21.5\n",
            "Python: 3.7.13\n",
            "OS: Linux-5.4.188+-x86_64-with-Ubuntu-18.04-bionic\n",
            "\n",
            "System:\n",
            "GPUs: 1/1 available\n",
            "  Device: /physical_device:GPU:0\n",
            "         Available: True\n",
            "        Initalized: False\n",
            "     Memory growth: True\n",
            "\n",
            "Video: video.AVI\n",
            "\u001b[2KPredicting... \u001b[90m━━━━━━━━━━━━━━━━━━━━━━━━━━━━━━━━━━━━━━━━\u001b[0m \u001b[35m  0%\u001b[0m ETA: \u001b[36m-:--:--\u001b[0m \u001b[31m?\u001b[0m2022-08-02 21:13:37.849737: W tensorflow/core/grappler/costs/op_level_cost_estimator.cc:690] Error in PredictCost() for the op: op: \"CropAndResize\" attr { key: \"T\" value { type: DT_FLOAT } } attr { key: \"extrapolation_value\" value { f: 0 } } attr { key: \"method\" value { s: \"bilinear\" } } inputs { dtype: DT_FLOAT shape { dim { size: -65 } dim { size: -66 } dim { size: -67 } dim { size: 1 } } } inputs { dtype: DT_FLOAT shape { dim { size: -2 } dim { size: 4 } } } inputs { dtype: DT_INT32 shape { dim { size: -2 } } } inputs { dtype: DT_INT32 shape { dim { size: 2 } } } device { type: \"GPU\" vendor: \"NVIDIA\" model: \"Tesla T4\" frequency: 1590 num_cores: 40 environment { key: \"architecture\" value: \"7.5\" } environment { key: \"cuda\" value: \"11010\" } environment { key: \"cudnn\" value: \"8005\" } num_registers: 65536 l1_cache_size: 24576 l2_cache_size: 4194304 shared_memory_size_per_multiprocessor: 65536 memory_size: 14150270976 bandwidth: 320064000 } outputs { dtype: DT_FLOAT shape { dim { size: -2 } dim { size: -68 } dim { size: -69 } dim { size: 1 } } }\n",
            "\u001b[2KPredicting... \u001b[91m━━━━━━━━━━━━━━━━━━━━━━━━━━━━━━━━━━━━━━\u001b[0m\u001b[91m╸\u001b[0m \u001b[35m100%\u001b[0m ETA: \u001b[36m0:00:01\u001b[0m \u001b[31m19.2 FPS\u001b[0m2022-08-02 21:13:54.338637: W tensorflow/core/grappler/costs/op_level_cost_estimator.cc:690] Error in PredictCost() for the op: op: \"CropAndResize\" attr { key: \"T\" value { type: DT_FLOAT } } attr { key: \"extrapolation_value\" value { f: 0 } } attr { key: \"method\" value { s: \"bilinear\" } } inputs { dtype: DT_FLOAT shape { dim { size: -65 } dim { size: -66 } dim { size: -67 } dim { size: 1 } } } inputs { dtype: DT_FLOAT shape { dim { size: -2 } dim { size: 4 } } } inputs { dtype: DT_INT32 shape { dim { size: -2 } } } inputs { dtype: DT_INT32 shape { dim { size: 2 } } } device { type: \"GPU\" vendor: \"NVIDIA\" model: \"Tesla T4\" frequency: 1590 num_cores: 40 environment { key: \"architecture\" value: \"7.5\" } environment { key: \"cuda\" value: \"11010\" } environment { key: \"cudnn\" value: \"8005\" } num_registers: 65536 l1_cache_size: 24576 l2_cache_size: 4194304 shared_memory_size_per_multiprocessor: 65536 memory_size: 14150270976 bandwidth: 320064000 } outputs { dtype: DT_FLOAT shape { dim { size: -2 } dim { size: -68 } dim { size: -69 } dim { size: 1 } } }\n",
            "\u001b[2KPredicting... \u001b[90m━━━━━━━━━━━━━━━━━━━━━━━━━━━━━━━━━━━━━━━━\u001b[0m \u001b[35m100%\u001b[0m ETA: \u001b[36m0:00:00\u001b[0m \u001b[31m4.2 FPS\u001b[0m\n",
            "\u001b[?25hFinished inference at: 2022-08-02 21:14:13.326364\n",
            "Total runtime: 43.442108392715454 secs\n",
            "Predicted frames: 201/201\n",
            "Provenance:\n",
            "\u001b[1m{\u001b[0m\n",
            "\u001b[2;32m│   \u001b[0m\u001b[32m'sleap_version'\u001b[0m: \u001b[32m'1.2.6'\u001b[0m,\n",
            "\u001b[2;32m│   \u001b[0m\u001b[32m'platform'\u001b[0m: \u001b[32m'Linux-5.4.188+-x86_64-with-Ubuntu-18.04-bionic'\u001b[0m,\n",
            "\u001b[2;32m│   \u001b[0m\u001b[32m'command'\u001b[0m: \u001b[32m'/usr/local/bin/sleap-track video.AVI --frames 0-200 --tracking.tracker flow --tracking.similarity centroid --tracking.match greedy --tracking.clean_instance_count 2 --tracking.target_instance_count 2 -m models/baseline_medium_rf.bottomup'\u001b[0m,\n",
            "\u001b[2;32m│   \u001b[0m\u001b[32m'data_path'\u001b[0m: \u001b[32m'video.AVI'\u001b[0m,\n",
            "\u001b[2;32m│   \u001b[0m\u001b[32m'model_paths'\u001b[0m: \u001b[1m[\u001b[0m\u001b[32m'models/baseline_medium_rf.bottomup/training_config.json'\u001b[0m\u001b[1m]\u001b[0m,\n",
            "\u001b[2;32m│   \u001b[0m\u001b[32m'output_path'\u001b[0m: \u001b[32m'video.AVI.predictions.slp'\u001b[0m,\n",
            "\u001b[2;32m│   \u001b[0m\u001b[32m'predictor'\u001b[0m: \u001b[32m'BottomUpPredictor'\u001b[0m,\n",
            "\u001b[2;32m│   \u001b[0m\u001b[32m'total_elapsed'\u001b[0m: \u001b[1;36m43.442108392715454\u001b[0m,\n",
            "\u001b[2;32m│   \u001b[0m\u001b[32m'start_timestamp'\u001b[0m: \u001b[32m'2022-08-02 21:13:29.884276'\u001b[0m,\n",
            "\u001b[2;32m│   \u001b[0m\u001b[32m'finish_timestamp'\u001b[0m: \u001b[32m'2022-08-02 21:14:13.326364'\u001b[0m\n",
            "\u001b[1m}\u001b[0m\n",
            "\n",
            "Saved output: video.AVI.predictions.slp\n"
          ]
        }
      ],
      "source": [
        "!sleap-track video.AVI --frames 0-200 --tracking.tracker flow --tracking.similarity centroid --tracking.match greedy --tracking.clean_instance_count 2 --tracking.target_instance_count 2 -m models/baseline_medium_rf.bottomup"
      ]
    },
    {
      "cell_type": "markdown",
      "metadata": {
        "id": "nzObCUToEqwA"
      },
      "source": [
        "When inference is finished, it will save the predictions in a file which can be opened in the GUI as a SLEAP project file. The file will be in the same directory as the video and the filename will be `{video filename}.predictions.slp`.\n",
        "\n",
        "Let's inspect the predictions file:"
      ]
    },
    {
      "cell_type": "code",
      "execution_count": 12,
      "metadata": {
        "id": "nPfmNMSt-vS7",
        "outputId": "17041474-a9d6-4973-c64e-352683898851",
        "colab": {
          "base_uri": "https://localhost:8080/"
        }
      },
      "outputs": [
        {
          "output_type": "stream",
          "name": "stdout",
          "text": [
            "INFO:numexpr.utils:NumExpr defaulting to 2 threads.\n",
            "Labeled frames: 201\n",
            "Tracks: 2\n",
            "Video files:\n",
            "  video.AVI\n",
            "    labeled frames: 201\n",
            "    labeled frames from 0 to 200\n",
            "    user labeled frames: 0\n",
            "    tracks: 2\n",
            "    max instances in frame: 2\n",
            "Total user labeled frames: 0\n",
            "\n",
            "Provenance:\n",
            "  sleap_version: 1.2.6\n",
            "  platform: Linux-5.4.188+-x86_64-with-Ubuntu-18.04-bionic\n",
            "  command: /usr/local/bin/sleap-track video.AVI --frames 0-200 --tracking.tracker flow --tracking.similarity centroid --tracking.match greedy --tracking.clean_instance_count 2 --tracking.target_instance_count 2 -m models/baseline_medium_rf.bottomup\n",
            "  data_path: video.AVI\n",
            "  model_paths: ['models/baseline_medium_rf.bottomup/training_config.json']\n",
            "  output_path: video.AVI.predictions.slp\n",
            "  predictor: BottomUpPredictor\n",
            "  total_elapsed: 43.442108392715454\n",
            "  start_timestamp: 2022-08-02 21:13:29.884276\n",
            "  finish_timestamp: 2022-08-02 21:14:13.326364\n",
            "  args: {'data_path': 'video.AVI', 'models': ['models/baseline_medium_rf.bottomup'], 'frames': '0-200', 'only_labeled_frames': False, 'only_suggested_frames': False, 'output': None, 'no_empty_frames': False, 'verbosity': 'rich', 'video.dataset': None, 'video.input_format': 'channels_last', 'cpu': False, 'first_gpu': False, 'last_gpu': False, 'gpu': 0, 'max_edge_length_ratio': 0.25, 'dist_penalty_weight': 1.0, 'batch_size': 4, 'open_in_gui': False, 'peak_threshold': 0.2, 'tracking.tracker': 'flow', 'tracking.target_instance_count': 2, 'tracking.pre_cull_to_target': None, 'tracking.pre_cull_iou_threshold': None, 'tracking.post_connect_single_breaks': None, 'tracking.clean_instance_count': 2, 'tracking.clean_iou_threshold': None, 'tracking.similarity': 'centroid', 'tracking.match': 'greedy', 'tracking.track_window': None, 'tracking.min_new_track_points': None, 'tracking.min_match_points': None, 'tracking.img_scale': None, 'tracking.of_window_size': None, 'tracking.of_max_levels': None, 'tracking.kf_node_indices': None, 'tracking.kf_init_frame_count': None}\n"
          ]
        }
      ],
      "source": [
        "!sleap-inspect video.AVI.predictions.slp"
      ]
    },
    {
      "cell_type": "markdown",
      "metadata": {
        "id": "LoJ2kNBK-w6k"
      },
      "source": [
        "You can copy this file from your Google Drive to a local drive and open it in the SLEAP GUI app (or open it directly if you have your Google Drive mounted on your local machine). If the video is in the same directory as the predictions file, SLEAP will automatically find it; otherwise, you'll be prompted to locate the video (since the path to the video on your local machine will be different than the path to the video on Colab)."
      ]
    },
    {
      "cell_type": "code",
      "source": [
        "!sleap-render video.AVI.predictions.slp --frames 0-200"
      ],
      "metadata": {
        "id": "TbR7yHGSbJs7",
        "outputId": "ec91006f-0c96-47c9-9d90-c8581899bc72",
        "colab": {
          "base_uri": "https://localhost:8080/"
        }
      },
      "execution_count": 13,
      "outputs": [
        {
          "output_type": "stream",
          "name": "stdout",
          "text": [
            "INFO:numexpr.utils:NumExpr defaulting to 2 threads.\n",
            "Saving config: /root/.sleap/1.2.6/preferences.yaml\n",
            "Writing video with 201 frame images...\n",
            "INFO:sleap.io.visuals:Chunks: 4, chunk size: 64\n",
            "Finished 64 frames in 2.127247532000183 s, fps = 30.085826419938464, approx 4.553639248187892 s remaining\n",
            "Finished 128 frames in 2.434497031999854 s, fps = 52.577595420131814, approx 1.3884240885624166 s remaining\n",
            "Finished 192 frames in 2.7427903379998497 s, fps = 70.00170495715467, approx 0.12856829709374296 s remaining\n",
            "Finished 201 frames in 2.788367085000118 s, fps = 72.0852003601927, approx 0.0 s remaining\n",
            "Done in 2.8240254259999347 s, fps = 71.17499656676415.\n",
            "Video saved as: video.AVI.predictions.slp.avi\n"
          ]
        }
      ]
    },
    {
      "cell_type": "markdown",
      "metadata": {
        "id": "Mf-MsD7fv5Wy"
      },
      "source": [
        "## Inference parameters\n",
        "\n",
        "One important option when running inference is whether (and how) you want to track instance identities. If you omit `--tracking.tracker flow` then the identities will not be tracked. Tracking methods/options are explained [here](https://sleap.ai/guides/proofreading.html#tracking-methods).\n",
        "\n",
        "You can see all of the command-line arguments by calling `sleap-track` with the `--help` argument, like so:"
      ]
    },
    {
      "cell_type": "code",
      "execution_count": null,
      "metadata": {
        "id": "6hh4ogd9wtxP"
      },
      "outputs": [],
      "source": [
        "!sleap-track --help"
      ]
    },
    {
      "cell_type": "markdown",
      "metadata": {
        "id": "qW-NoJOFvYHM"
      },
      "source": [
        "## Inference with top-down models\n",
        "\n",
        "If you trained the pair of models needed for top-down inference, you can call `sleap-track` with `-m path/to/model` for each model, like so:"
      ]
    },
    {
      "cell_type": "code",
      "execution_count": null,
      "metadata": {
        "id": "QPKnMc1qvim7"
      },
      "outputs": [],
      "source": [
        "!sleap-track colab_demo.video.mp4 \\\n",
        "    --frames 0-200 \\\n",
        "    --tracking.tracker flow \\\n",
        "    --tracking.similarity centroid \\\n",
        "    --tracking.match greedy \\\n",
        "    --tracking.clean_instance_count 2 \\\n",
        "    -m models/baseline_medium_rf.topdown \\\n",
        "    -m models/baseline.centroid"
      ]
    }
  ],
  "metadata": {
    "accelerator": "GPU",
    "colab": {
      "collapsed_sections": [],
      "name": "Training and inference using Google Drive",
      "provenance": [],
      "include_colab_link": true
    },
    "kernelspec": {
      "display_name": "Python 3.8.10 64-bit",
      "language": "python",
      "name": "python3"
    },
    "language_info": {
      "codemirror_mode": {
        "name": "ipython",
        "version": 3
      },
      "file_extension": ".py",
      "mimetype": "text/x-python",
      "name": "python",
      "nbconvert_exporter": "python",
      "pygments_lexer": "ipython3",
      "version": "3.8.10"
    },
    "vscode": {
      "interpreter": {
        "hash": "916dbcbb3f70747c44a77c7bcd40155683ae19c65e1c03b4aa3499c5328201f1"
      }
    }
  },
  "nbformat": 4,
  "nbformat_minor": 0
}